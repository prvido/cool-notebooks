{
 "cells": [
  {
   "cell_type": "markdown",
   "id": "c6fcfccf",
   "metadata": {},
   "source": [
    "# Agente de IA para Suprimentos: Navegando Relações com Grafos"
   ]
  },
  {
   "cell_type": "markdown",
   "id": "408d529a",
   "metadata": {},
   "source": [
    "Este notebook demonstra a construção de um agente de inteligência artificial capaz de responder perguntas sobre contratos de fornecimento com base em dados do Banco Mundial. Utilizando técnicas de busca em grafos, o agente é projetado para explorar e interpretar relações entre entidades como fornecedores, contratos, países e categorias de compras, oferecendo uma interface inteligente para análise e tomada de decisão na área de suprimentos.\n",
    "\n",
    "A solução combina o modelo de linguagem da OpenAI para interpretação de perguntas e geração de respostas em linguagem natural, com o banco de dados em grafos Neo4j Aura para armazenamento e consulta das relações complexas entre os dados. Essa integração permite criar um agente capaz de compreender o contexto, navegar estruturas de dados conectadas e fornecer respostas contextualizadas e explicáveis."
   ]
  },
  {
   "cell_type": "markdown",
   "id": "9e7d22ac",
   "metadata": {},
   "source": [
    "## 0. Preparação do notebook"
   ]
  },
  {
   "cell_type": "markdown",
   "id": "91b32c87",
   "metadata": {},
   "source": [
    "### 0.1 Download das bibliotecas"
   ]
  },
  {
   "cell_type": "code",
   "execution_count": null,
   "id": "cbdc9d50",
   "metadata": {},
   "outputs": [],
   "source": [
    "%pip install requests neo4j tqdm python-dotenv openai xmltodict tiktoken"
   ]
  },
  {
   "cell_type": "markdown",
   "id": "2235d209",
   "metadata": {},
   "source": [
    "### 0.2 Definição de funções utilitárias"
   ]
  },
  {
   "cell_type": "markdown",
   "id": "e5065583",
   "metadata": {},
   "source": [
    "Função para calular a quantidade de tokens de um texto"
   ]
  },
  {
   "cell_type": "code",
   "execution_count": 2,
   "id": "8dabe8c8",
   "metadata": {},
   "outputs": [],
   "source": [
    "import tiktoken\n",
    "\n",
    "def calculate_token_count(context):\n",
    "    encoding = tiktoken.encoding_for_model('gpt-4o')\n",
    "    token_count = len(encoding.encode(context))\n",
    "    return token_count"
   ]
  },
  {
   "cell_type": "markdown",
   "id": "f1718e5d",
   "metadata": {},
   "source": [
    "Função para calcular o custo de uma chamada de LLM com base nos tokens consumidos"
   ]
  },
  {
   "cell_type": "code",
   "execution_count": 3,
   "id": "ae3735ae",
   "metadata": {},
   "outputs": [],
   "source": [
    "def calculate_request_cost(model, input_tokens=0, output_tokens=0):\n",
    "    mapper = {\n",
    "        'gpt-4o': {'input': 2.5/1000000, 'output': 10/1000000},\n",
    "        'gpt-4.1-nano': {'input': 0.1/1000000, 'output': 0.4/1000000}\n",
    "    }\n",
    "    return (mapper[model]['input'] * input_tokens + mapper[model]['output'] * output_tokens) * 5.5"
   ]
  },
  {
   "cell_type": "markdown",
   "id": "6e83a5c2",
   "metadata": {},
   "source": [
    "Função para calcular o custo potencial mensal de uma empresa para uma request"
   ]
  },
  {
   "cell_type": "code",
   "execution_count": 4,
   "id": "7a8479f4",
   "metadata": {},
   "outputs": [],
   "source": [
    "def calculate_monthly_potencial_cost(request_cost, n_daily_requests=0, n_employee=0, n_monthly_work_days=22):\n",
    "    return request_cost * n_daily_requests * n_employee * n_monthly_work_days"
   ]
  },
  {
   "cell_type": "markdown",
   "id": "677f0337",
   "metadata": {},
   "source": [
    "## 1. Preparação dos Dados"
   ]
  },
  {
   "cell_type": "markdown",
   "id": "e891fe74",
   "metadata": {},
   "source": [
    "Nesta etapa, realizamos a obtenção e o pré-processamento dos dados de contratos de fornecimento disponibilizados pelo Banco Mundial. O objetivo é transformar os dados brutos em um formato estruturado e adequado para inserção no banco de dados em grafos."
   ]
  },
  {
   "cell_type": "markdown",
   "id": "cb8075bd",
   "metadata": {},
   "source": [
    "### 1.1 Extração dos dados"
   ]
  },
  {
   "cell_type": "markdown",
   "id": "15020925",
   "metadata": {},
   "source": [
    "Os dados são obtidos diretamente da fonte oficial via uma requisição HTTP ao arquivo JSON publicado pelo Banco Mundial. Após o download, o arquivo é salvo localmente para uso nas etapas seguintes."
   ]
  },
  {
   "cell_type": "code",
   "execution_count": 36,
   "id": "40d0a851",
   "metadata": {},
   "outputs": [
    {
     "name": "stdout",
     "output_type": "stream",
     "text": [
      "Data saved at: data/raw_dataset.json\n",
      "[{'award_date': '24-Dec-2024', 'commodity_category': 'CONSULTING', 'contract_award_amount': 480000, 'contract_description': 'Recommendation for Service Plan, Concept Design, & Econ Analysis of PT Corridor in Baghdad', 'fund_source': 'Trust Fund', 'quarter_and_fiscal_year': 'Q2 - FY25', 'selection_number': '2009796', 'supplier': 'CONSULTRANS, S.A.U.', 'supplier_country': 'Spain', 'supplier_country_code': 'ES', 'vpu_description': 'Office of the Regional Vice Pres', 'wbg_organization': 'IBRD'}, {'award_date': '24-Dec-2024', 'commodity_category': 'CONSULTING', 'contract_award_amount': 250000, 'contract_description': 'Design, Plan and Launch a Food System Global Innovation Acceleration Program and its Associated Fund', 'fund_source': 'Trust Fund', 'quarter_and_fiscal_year': 'Q2 - FY25', 'selection_number': '2012029', 'supplier': 'World Food Programme', 'supplier_country': 'Italy', 'supplier_country_code': 'IT', 'vpu_description': 'Planet Vice Presidency', 'wbg_organization': 'IBRD'}, {'award_date': '23-Dec-2024', 'commodity_category': 'CONTRACT CONSULTANTS', 'contract_award_amount': 647585, 'contract_description': 'Dar es Salaam Bus Rapid Transit Project - Technical Consultant', 'fund_source': 'Trust Fund', 'quarter_and_fiscal_year': 'Q2 - FY25', 'selection_number': '2003991', 'supplier': 'Ingérop Conseil et Ingénierie', 'supplier_country': 'France', 'supplier_country_code': 'FR', 'vpu_description': 'Cross-Cutting Solutions', 'wbg_organization': 'IFC'}, {'award_date': '23-Dec-2024', 'commodity_category': 'CONSULTING', 'contract_award_amount': 447480, 'contract_description': \"Strengthening Youth and Women's Economic Inclusion in the Agri-food Sector\", 'fund_source': 'Trust Fund', 'quarter_and_fiscal_year': 'Q2 - FY25', 'selection_number': '2009012', 'supplier': 'Deloitte Conseil Tunisie', 'supplier_country': 'Tunisia', 'supplier_country_code': 'TN', 'vpu_description': 'Office of the Regional Vice Pres', 'wbg_organization': 'IBRD'}, {'award_date': '20-Dec-2024', 'commodity_category': 'CONTRACT CONSULTANTS', 'contract_award_amount': 880711.75, 'contract_description': 'Engineering Consultant for SP Metrô - Transaction #2 (3 lines)', 'fund_source': 'Trust Fund', 'quarter_and_fiscal_year': 'Q2 - FY25', 'selection_number': '2010169', 'supplier': 'Alvarez & Marsal Consultoria em Engenhar', 'supplier_country': 'Brazil', 'supplier_country_code': 'BR', 'vpu_description': 'Cross-Cutting Solutions', 'wbg_organization': 'IFC'}, {'award_date': '20-Dec-2024', 'commodity_category': 'CONTRACT CONSULTANTS', 'contract_award_amount': 400000, 'contract_description': 'Mozambique : Strengthening PIM Climatic Considerations and Fiscal Risk Management', 'fund_source': 'Trust Fund', 'quarter_and_fiscal_year': 'Q2 - FY25', 'selection_number': '2010248', 'supplier': 'CAMBRIDGE RESOURCES INTERNATIONAL', 'supplier_country': 'USA', 'supplier_country_code': 'US', 'vpu_description': 'Off. of Regional Vice President', 'wbg_organization': 'IBRD'}, {'award_date': '18-Dec-2024', 'commodity_category': 'CONTRACT CONSULTANTS', 'contract_award_amount': 469239, 'contract_description': 'Technical Consultant For A Renewable Energy Project - Republic of Belize', 'fund_source': 'Trust Fund', 'quarter_and_fiscal_year': 'Q2 - FY25', 'selection_number': '2010479', 'supplier': 'ILF Beratende Ingenieure GmbH', 'supplier_country': 'Germany', 'supplier_country_code': 'DE', 'vpu_description': 'Cross-Cutting Solutions', 'wbg_organization': 'IFC'}, {'award_date': '17-Dec-2024', 'commodity_category': 'CONSULTING', 'contract_award_amount': 350803, 'contract_description': 'Digital Agriculture Roadmaps - P179477', 'fund_source': 'Trust Fund', 'quarter_and_fiscal_year': 'Q2 - FY25', 'selection_number': '2011957', 'supplier': 'The Boston Consulting Group', 'supplier_country': 'USA', 'supplier_country_code': 'US', 'vpu_description': 'Planet Vice Presidency', 'wbg_organization': 'IBRD'}, {'award_date': '15-Dec-2024', 'commodity_category': 'CONSULTING', 'contract_award_amount': 482175, 'contract_description': 'Technical Consultant - Davao Airport Public Private Partnership (PPP)', 'fund_source': 'Trust Fund', 'quarter_and_fiscal_year': 'Q2 - FY25', 'selection_number': '2011899', 'supplier': 'Infrata Limited', 'supplier_country': 'United Kingdom', 'supplier_country_code': 'GB', 'vpu_description': 'Cross-Cutting Solutions', 'wbg_organization': 'IFC'}, {'award_date': '15-Dec-2024', 'commodity_category': 'CONSULTING', 'contract_award_amount': 296500, 'contract_description': 'Expanding Rail Freight Markets across Europe and Central Asia', 'fund_source': 'Trust Fund', 'quarter_and_fiscal_year': 'Q2 - FY25', 'selection_number': '2010619', 'supplier': 'The Boston Consulting Group Servici', 'supplier_country': 'Hungary', 'supplier_country_code': 'HU', 'vpu_description': 'Office of the Regional Vice Pres', 'wbg_organization': 'IBRD'}]\n"
     ]
    }
   ],
   "source": [
    "import requests\n",
    "import json\n",
    "\n",
    "url = 'https://datacatalogapi.worldbank.org/dexapps/fone/api/apiservice?datasetId=DS00028&resourceId=RS00025&type=json'\n",
    "\n",
    "response = requests.get(url)\n",
    "\n",
    "with open(f'data/raw_dataset.json', 'w', encoding='utf-8') as file:\n",
    "    json.dump(response.json(), file, ensure_ascii=False)\n",
    "\n",
    "print('Data saved at: data/raw_dataset.json')\n",
    "print(response.json()['data'][:10])"
   ]
  },
  {
   "cell_type": "markdown",
   "id": "1f4f5598",
   "metadata": {},
   "source": [
    "### 1.2. Transformação dos dados"
   ]
  },
  {
   "cell_type": "markdown",
   "id": "1c27a1b5",
   "metadata": {},
   "source": [
    "Após a extração, o arquivo JSON é lido e transformado para garantir que os dados estejam em um formato limpo e consistente. As principais transformações realizadas incluem:\n",
    "\n",
    "Conversão da data de adjudicação (award_date) para o formato ISO (YYYY-MM-DD)\n",
    "\n",
    "Tratamento de caracteres especiais no campo de descrição do contrato, garantindo compatibilidade com o formato JSON e posterior ingestão em banco de dados\n",
    "\n",
    "Abaixo está o código utilizado para realizar essas transformações:"
   ]
  },
  {
   "cell_type": "code",
   "execution_count": 38,
   "id": "c4a63278",
   "metadata": {},
   "outputs": [
    {
     "name": "stdout",
     "output_type": "stream",
     "text": [
      "Data saved at: data/treated_dataset.json\n",
      "[{'award_date': '2024-12-24', 'commodity_category': 'CONSULTING', 'contract_award_amount': 480000, 'contract_description': 'Recommendation for Service Plan, Concept Design, & Econ Analysis of PT Corridor in Baghdad', 'fund_source': 'Trust Fund', 'quarter_and_fiscal_year': 'Q2 - FY25', 'selection_number': '2009796', 'supplier': 'CONSULTRANS, S.A.U.', 'supplier_country': 'Spain', 'supplier_country_code': 'ES', 'vpu_description': 'Office of the Regional Vice Pres', 'wbg_organization': 'IBRD'}, {'award_date': '2024-12-24', 'commodity_category': 'CONSULTING', 'contract_award_amount': 250000, 'contract_description': 'Design, Plan and Launch a Food System Global Innovation Acceleration Program and its Associated Fund', 'fund_source': 'Trust Fund', 'quarter_and_fiscal_year': 'Q2 - FY25', 'selection_number': '2012029', 'supplier': 'World Food Programme', 'supplier_country': 'Italy', 'supplier_country_code': 'IT', 'vpu_description': 'Planet Vice Presidency', 'wbg_organization': 'IBRD'}, {'award_date': '2024-12-23', 'commodity_category': 'CONTRACT CONSULTANTS', 'contract_award_amount': 647585, 'contract_description': 'Dar es Salaam Bus Rapid Transit Project - Technical Consultant', 'fund_source': 'Trust Fund', 'quarter_and_fiscal_year': 'Q2 - FY25', 'selection_number': '2003991', 'supplier': 'Ingérop Conseil et Ingénierie', 'supplier_country': 'France', 'supplier_country_code': 'FR', 'vpu_description': 'Cross-Cutting Solutions', 'wbg_organization': 'IFC'}, {'award_date': '2024-12-23', 'commodity_category': 'CONSULTING', 'contract_award_amount': 447480, 'contract_description': \"Strengthening Youth and Women\\\\'s Economic Inclusion in the Agri-food Sector\", 'fund_source': 'Trust Fund', 'quarter_and_fiscal_year': 'Q2 - FY25', 'selection_number': '2009012', 'supplier': 'Deloitte Conseil Tunisie', 'supplier_country': 'Tunisia', 'supplier_country_code': 'TN', 'vpu_description': 'Office of the Regional Vice Pres', 'wbg_organization': 'IBRD'}, {'award_date': '2024-12-20', 'commodity_category': 'CONTRACT CONSULTANTS', 'contract_award_amount': 880711.75, 'contract_description': 'Engineering Consultant for SP Metrô - Transaction #2 (3 lines)', 'fund_source': 'Trust Fund', 'quarter_and_fiscal_year': 'Q2 - FY25', 'selection_number': '2010169', 'supplier': 'Alvarez & Marsal Consultoria em Engenhar', 'supplier_country': 'Brazil', 'supplier_country_code': 'BR', 'vpu_description': 'Cross-Cutting Solutions', 'wbg_organization': 'IFC'}]\n"
     ]
    }
   ],
   "source": [
    "from datetime import datetime\n",
    "import json\n",
    "\n",
    "with open('data/raw_dataset.json', encoding='utf-8') as file:\n",
    "    data = json.load(file)['data']\n",
    "\n",
    "for item in data:\n",
    "    parsed_date = datetime.strptime(item[\"award_date\"], \"%d-%b-%Y\")\n",
    "    item[\"award_date\"] = parsed_date.strftime(\"%Y-%m-%d\")\n",
    "    item[\"contract_description\"] = item[\"contract_description\"].replace('\\\\', '\\\\\\\\').replace('\"', '\\\\\"').replace(\"'\", \"\\\\'\")\n",
    "\n",
    "with open(f'data/treated_dataset.json', 'w', encoding='utf-8') as file:\n",
    "    json.dump(data, file, indent=4, ensure_ascii=False)\n",
    "\n",
    "print('Data saved at: data/treated_dataset.json')\n",
    "print(data[:5])"
   ]
  },
  {
   "cell_type": "markdown",
   "id": "90b77ced",
   "metadata": {},
   "source": [
    "### 1.3 Avaliação do contexto"
   ]
  },
  {
   "cell_type": "code",
   "execution_count": 8,
   "id": "4638f668",
   "metadata": {},
   "outputs": [
    {
     "name": "stdout",
     "output_type": "stream",
     "text": [
      "Contagem de tokens: 146680\n",
      "Custo da requisição (R$): 2.02\n",
      "Custo mensal potencial (R$): 79867.26000000001\n"
     ]
    }
   ],
   "source": [
    "with open(f'data/treated_dataset.json', encoding='utf-8') as file:\n",
    "    context = file.read()\n",
    "\n",
    "ref_token_count = calculate_token_count(context)\n",
    "ref_request_cost = calculate_request_cost('gpt-4o', ref_token_count)\n",
    "ref_potencial_cost =  calculate_monthly_potencial_cost(ref_request_cost, 15, 120, 22)\n",
    "\n",
    "print('Contagem de tokens:', ref_token_count)\n",
    "print('Custo da requisição (R$):', round(ref_request_cost, 2))\n",
    "print('Custo mensal potencial (R$):', ref_potencial_cost)\n"
   ]
  },
  {
   "cell_type": "markdown",
   "id": "d16a98bf",
   "metadata": {},
   "source": [
    "## 2. Modelagem e Construção do Grafo"
   ]
  },
  {
   "cell_type": "markdown",
   "id": "febb1ad4",
   "metadata": {},
   "source": [
    "Nesta etapa, os dados tratados são representados em um grafo no Neo4j, permitindo consultas complexas e navegação eficiente entre entidades relacionadas. A modelagem é orientada a representar os principais elementos do processo de contratação e suas conexões."
   ]
  },
  {
   "cell_type": "markdown",
   "id": "efa5b3d8",
   "metadata": {},
   "source": [
    "### 2.1 Estrutura do Grafo"
   ]
  },
  {
   "cell_type": "markdown",
   "id": "51684639",
   "metadata": {},
   "source": [
    "A modelagem foi construída com os seguintes nós (entidades):\n",
    "* :`Supplier` – Fornecedor do contrato\n",
    "* :`Country` – País onde o fornecedor está localizado\n",
    "* :`CommodityCategory` – Categoria do bem ou serviço contratado\n",
    "* :`FundSource` – Fonte de financiamento do contrato\n",
    "* :`Organization` – Organização do Grupo Banco Mundial (WBG) responsável\n",
    "* :`VPU` – Unidade da Vice-Presidência que gerencia o contrato\n",
    "* :`Contract` – Objeto do contrato propriamente dito"
   ]
  },
  {
   "cell_type": "markdown",
   "id": "a99e11b0",
   "metadata": {},
   "source": [
    "E os relacionamentos entre essas entidades:\n",
    "* `(Supplier)-[:LOCATED_IN]->(Country)`\n",
    "* `(Supplier)-[:PROVIDED]->(Contract)`\n",
    "* `(Contract)-[:CATEGORIZED_AS]->(CommodityCategory)`\n",
    "* `(Contract)-[:FUNDED_BY]->(FundSource)`\n",
    "* `(Contract)-[:MANAGED_BY]->(VPU)`\n",
    "* `(VPU)-[:PART_OF]->(Organization)`"
   ]
  },
  {
   "cell_type": "markdown",
   "id": "ee0c0e17",
   "metadata": {},
   "source": [
    "### 2.2 Conexão com o banco de dados Neo4j"
   ]
  },
  {
   "cell_type": "code",
   "execution_count": 9,
   "id": "0552eedc",
   "metadata": {},
   "outputs": [],
   "source": [
    "import os\n",
    "from neo4j import GraphDatabase\n",
    "from dotenv import load_dotenv; load_dotenv()\n",
    "\n",
    "uri = os.getenv('NEO4J_URI')\n",
    "user = os.getenv('NEO4J_USERNAME')\n",
    "password = os.getenv('NEO4J_PASSWORD')\n",
    "\n",
    "driver = GraphDatabase.driver(uri, auth=(user, password))\n",
    "\n",
    "driver.verify_connectivity()"
   ]
  },
  {
   "cell_type": "markdown",
   "id": "98341f32",
   "metadata": {},
   "source": [
    "### 2.3 Leitura dos dados tratados"
   ]
  },
  {
   "cell_type": "code",
   "execution_count": 10,
   "id": "558c6e76",
   "metadata": {},
   "outputs": [],
   "source": [
    "import json\n",
    "\n",
    "with open('data/treated_dataset.json', 'r', encoding='utf-8') as file:\n",
    "    data = json.load(file)"
   ]
  },
  {
   "cell_type": "markdown",
   "id": "31ab53e5",
   "metadata": {},
   "source": [
    "### 2.4 Ingestão dos dados no Grafo"
   ]
  },
  {
   "cell_type": "markdown",
   "id": "d907d938",
   "metadata": {},
   "source": [
    "Para cada item do dataset, os dados são convertidos em comandos Cypher com base em um template. As inserções são feitas utilizando a operação MERGE, que evita duplicação de nós e relacionamentos:"
   ]
  },
  {
   "cell_type": "code",
   "execution_count": 11,
   "id": "9c80bbeb",
   "metadata": {},
   "outputs": [
    {
     "name": "stderr",
     "output_type": "stream",
     "text": [
      "Uploading data to neo4j: 100%|██████████████████████████████████| 1000/1000 [08:27<00:00,  1.97it/s]\n"
     ]
    }
   ],
   "source": [
    "from tqdm import tqdm\n",
    "\n",
    "cypher_template = (\n",
    "    'MERGE (s:Supplier {{name: \"{supplier}\"}}) '\n",
    "    'MERGE (c:Country {{name: \"{supplier_country}\", code: \"{supplier_country_code}\"}}) '\n",
    "    'MERGE (cat:CommodityCategory {{name: \"{commodity_category}\"}}) '\n",
    "    'MERGE (fs:FundSource {{name: \"{fund_source}\"}}) '\n",
    "    'MERGE (org:Organization {{name: \"{wbg_organization}\"}}) '\n",
    "    'MERGE (vpu:VPU {{name: \"{vpu_description}\"}}) '\n",
    "    'MERGE (s)-[:LOCATED_IN]->(c) '\n",
    "    'MERGE (vpu)-[:PART_OF]->(org) '\n",
    "    'MERGE (con:Contract {{selection_number: \"{selection_number}\"}}) '\n",
    "    'ON CREATE SET '\n",
    "    '  con.award_date = date(\"{award_date}\"), '\n",
    "    '  con.amount = toFloat(\"{contract_award_amount}\"), '\n",
    "    '  con.description = \"{contract_description}\", '\n",
    "    '  con.fiscal_quarter = \"{quarter_and_fiscal_year}\" '\n",
    "    'MERGE (s)-[:PROVIDED]->(con) '\n",
    "    'MERGE (con)-[:CATEGORIZED_AS]->(cat) '\n",
    "    'MERGE (con)-[:FUNDED_BY]->(fs) '\n",
    "    'MERGE (con)-[:MANAGED_BY]->(vpu) '\n",
    ")\n",
    "\n",
    "failed = []\n",
    "with driver.session() as session:\n",
    "    for item in tqdm(data, ncols=100, desc='Uploading data to neo4j'):\n",
    "        try:\n",
    "            cleaned_item = {k: (v if v is not None else \"\") for k, v in item.items()}\n",
    "            cypher_query = cypher_template.format(**cleaned_item)\n",
    "            session.execute_write(lambda tx: tx.run(cypher_query))\n",
    "        except Exception as e:\n",
    "            print(e)\n",
    "            failed.append(item)"
   ]
  },
  {
   "cell_type": "markdown",
   "id": "67d4ea3d",
   "metadata": {},
   "source": [
    "### 2.5 Consulta de verificação"
   ]
  },
  {
   "cell_type": "markdown",
   "id": "a022f689",
   "metadata": {},
   "source": [
    "Após a carga, uma consulta simples pode ser executada para validar o sucesso da ingestão. Por exemplo, listar contratos fornecidos por empresas localizadas na Espanha:"
   ]
  },
  {
   "cell_type": "code",
   "execution_count": 12,
   "id": "f2b2bf86",
   "metadata": {},
   "outputs": [
    {
     "name": "stdout",
     "output_type": "stream",
     "text": [
      "{'contract': {'description': 'IFC LAC Assessments', 'award_date': neo4j.time.Date(2024, 10, 18), 'fiscal_quarter': 'Q2 - FY25', 'selection_number': '2006830'}, 's': {'name': 'Arup Latin America S.A'}, 'c': {'code': 'ES', 'name': 'Spain'}}\n",
      "{'contract': {'amount': 304128.0, 'description': 'Consultancy for the Improvement of Five Water Treatment Plants in Guatemala City', 'award_date': neo4j.time.Date(2024, 8, 28), 'fiscal_quarter': 'Q1 - FY25', 'selection_number': '2008510'}, 's': {'name': 'MERCADOS ARIES INTERNATIONAL S.A.'}, 'c': {'code': 'ES', 'name': 'Spain'}}\n",
      "{'contract': {'amount': 332785.0, 'description': 'Chad : Mini grid - Technical, Environmental and Social Support', 'award_date': neo4j.time.Date(2024, 6, 28), 'fiscal_quarter': 'Q4 - FY24', 'selection_number': '2008254'}, 's': {'name': 'Trama TecnoAmbiental'}, 'c': {'code': 'ES', 'name': 'Spain'}}\n",
      "{'contract': {'amount': 471865.0, 'description': 'Ecuador(Galapagos) : Harnessing the Potential of the Ocean for Sustainable Development', 'award_date': neo4j.time.Date(2023, 6, 6), 'fiscal_quarter': 'Q4 - FY23', 'selection_number': '2000143'}, 's': {'name': 'HIDRIA Ciencia ambiente y desarrollo S.L'}, 'c': {'code': 'ES', 'name': 'Spain'}}\n",
      "{'contract': {'amount': 468242.0, 'description': 'Ecuador (Continental Coastline) : Harnessing the Potential of the Ocean for Sustainable Development', 'award_date': neo4j.time.Date(2023, 5, 22), 'fiscal_quarter': 'Q4 - FY23', 'selection_number': '2000142'}, 's': {'name': 'HIDRIA Ciencia ambiente y desarrollo S.L'}, 'c': {'code': 'ES', 'name': 'Spain'}}\n",
      "{'contract': {'amount': 540000.0, 'description': 'Costa Rica : Technical And Market Consulting', 'award_date': neo4j.time.Date(2023, 5, 30), 'fiscal_quarter': 'Q4 - FY23', 'selection_number': '1284098'}, 's': {'name': 'ALG Global Infrastructure Advisors,'}, 'c': {'code': 'ES', 'name': 'Spain'}}\n",
      "{'contract': {'amount': 436165.96, 'description': 'Kyrgyz Republic - Airport Technical, Economic, Environmental and Social Consultant', 'award_date': neo4j.time.Date(2022, 1, 17), 'fiscal_quarter': 'Q3-FY22', 'selection_number': '1276328'}, 's': {'name': 'ALG Global Infrastructure Advisors,'}, 'c': {'code': 'ES', 'name': 'Spain'}}\n",
      "{'contract': {'amount': 810589.89, 'description': 'Venue, Conference and Fair Organizer for Innovate4Climate 2023', 'award_date': neo4j.time.Date(2023, 5, 2), 'fiscal_quarter': 'Q4 - FY23', 'selection_number': '23-0572'}, 's': {'name': 'BILBAO EXHIBITION CENTRE'}, 'c': {'code': 'ES', 'name': 'Spain'}}\n",
      "{'contract': {'amount': 480650.0, 'description': \"Mauritania : Technical Assistance to Women's Groups and Networks  in the Henna and desert date value chains\", 'award_date': neo4j.time.Date(2023, 3, 2), 'fiscal_quarter': 'Q3 - FY23', 'selection_number': '1283648'}, 's': {'name': 'ANINVER DEVELOPMENT PARTNERS, S.L.'}, 'c': {'code': 'ES', 'name': 'Spain'}}\n",
      "{'contract': {'amount': 488053.0, 'description': 'Panama - Technical Consultant Required for Road Infrastructure Project', 'award_date': neo4j.time.Date(2022, 1, 24), 'fiscal_quarter': 'Q3-FY22', 'selection_number': '1276932'}, 's': {'name': 'Técnica y Proyectos S.A.'}, 'c': {'code': 'ES', 'name': 'Spain'}}\n",
      "{'contract': {'amount': 345640.0, 'description': 'Brazil Rail Project : Business Consultant for KPI and Access Rights', 'award_date': neo4j.time.Date(2021, 12, 13), 'fiscal_quarter': 'Q2 - FY22', 'selection_number': '1274578'}, 's': {'name': 'ALG Global Infrastructure Advisors,S.L.'}, 'c': {'code': 'ES', 'name': 'Spain'}}\n",
      "{'contract': {'amount': 279883.0, 'description': 'Argentina Colombia Mexico & Uruguay Public Transport Demand Forecasting in the Post-Covid-19 Era: New Technology for Better Infrastructure Investment Decision-Making in Latin American Cities', 'award_date': neo4j.time.Date(2021, 9, 27), 'fiscal_quarter': 'Q1 - FY22', 'selection_number': '1274052'}, 's': {'name': 'Nommon Solutions and Technologies'}, 'c': {'code': 'ES', 'name': 'Spain'}}\n",
      "{'contract': {'amount': 329269.0, 'description': 'Morocco Regions - Development of Road Maintenance Strategies', 'award_date': neo4j.time.Date(2020, 7, 21), 'fiscal_quarter': 'Q1 - FY21', 'selection_number': '1268144'}, 's': {'name': 'T�cnica y Proyectos S.A.'}, 'c': {'code': 'ES', 'name': 'Spain'}}\n",
      "{'contract': {'amount': 358550.0, 'description': 'Pakistan Karachi Water Canal', 'award_date': neo4j.time.Date(2020, 5, 26), 'fiscal_quarter': 'Q4 - FY20', 'selection_number': '1267471'}, 's': {'name': 'T�cnica y Proyectos S.A.'}, 'c': {'code': 'ES', 'name': 'Spain'}}\n",
      "{'contract': {'amount': 298370.0, 'description': 'Costa Rica : Integrated Demand Analysis for the Transport System in the Metropolitan Area of San Jose', 'award_date': neo4j.time.Date(2019, 7, 15), 'fiscal_quarter': 'Q1 - FY20', 'selection_number': '1262551'}, 's': {'name': 'Idom Consulting Engineering Architecture'}, 'c': {'code': 'ES', 'name': 'Spain'}}\n",
      "{'contract': {'amount': 565080.0, 'description': 'Barbados Airport (GAI) -  Technical Consultant', 'award_date': neo4j.time.Date(2019, 6, 12), 'fiscal_quarter': 'Q4 - FY19', 'selection_number': '1262151'}, 's': {'name': 'Indra Business Consulting, S.L.U.'}, 'c': {'code': 'ES', 'name': 'Spain'}}\n",
      "{'contract': {'amount': 321340.24, 'description': 'Montenegro Legal Consultant Airports Public Private Partnership (PPP) - European Court of Auditors Public Private Partnership (ECA PPP) team', 'award_date': neo4j.time.Date(2018, 3, 19), 'fiscal_quarter': 'Q3 - FY18', 'selection_number': '1251512'}, 's': {'name': 'Indra Business Consulting, S.L.U.'}, 'c': {'code': 'ES', 'name': 'Spain'}}\n",
      "{'contract': {'amount': 296100.0, 'description': 'Jordan Consulting Services for Identifying Financing Schemes with a Focus on Tolling', 'award_date': neo4j.time.Date(2018, 1, 29), 'fiscal_quarter': 'Q3 - FY18', 'selection_number': '1251641'}, 's': {'name': 'Indra Business Consulting, S.L.U.'}, 'c': {'code': 'ES', 'name': 'Spain'}}\n",
      "{'contract': {'amount': 450000.0, 'description': 'EDGE Graphic Design and Website Development', 'award_date': neo4j.time.Date(2019, 5, 22), 'fiscal_quarter': 'Q4 - FY19', 'selection_number': '1259766'}, 's': {'name': 'Elkanodata S.L.'}, 'c': {'code': 'ES', 'name': 'Spain'}}\n",
      "{'contract': {'amount': 314277.0, 'description': 'Spain CRP Madrid', 'award_date': neo4j.time.Date(2019, 5, 16), 'fiscal_quarter': 'Q4 - FY19', 'selection_number': 'WBG0001868'}, 's': {'name': 'Intercontinental Madrid'}, 'c': {'code': 'ES', 'name': 'Spain'}}\n",
      "{'contract': {'amount': 274200.0, 'description': 'Brazil Preparation of a Regulatory Impact Analysis of the Adoption of a Carbon Pricing Instrument As Part of Nationally Determined Contributions (NDC) Implementation Package - Component 2b Regulatory Impact Analysis (RIA)', 'award_date': neo4j.time.Date(2018, 1, 16), 'fiscal_quarter': 'Q3 - FY18', 'selection_number': '1247051'}, 's': {'name': 'Aninver InfraPPP Partners S.L.'}, 'c': {'code': 'ES', 'name': 'Spain'}}\n",
      "{'contract': {'amount': 429299.0, 'description': 'Mozambique Development of  A National Electrification Strategy & Plan', 'award_date': neo4j.time.Date(2016, 9, 23), 'fiscal_quarter': 'Q1 - FY17', 'selection_number': '1215301'}, 's': {'name': 'AF-Mercados Energy Markets Internat'}, 'c': {'code': 'ES', 'name': 'Spain'}}\n",
      "{'contract': {'amount': 480000.0, 'description': 'Recommendation for Service Plan, Concept Design, & Econ Analysis of PT Corridor in Baghdad', 'award_date': neo4j.time.Date(2024, 12, 24), 'fiscal_quarter': 'Q2 - FY25', 'selection_number': '2009796'}, 's': {'name': 'CONSULTRANS, S.A.U.'}, 'c': {'code': 'ES', 'name': 'Spain'}}\n"
     ]
    }
   ],
   "source": [
    "cypher = \"\"\"\n",
    "MATCH (s:Supplier)-[LOCATED_IN]->(c:Country {name: 'Spain'})\n",
    "MATCH (s)-[PROVIDED]->(contract:Contract)\n",
    "RETURN contract, s, c\n",
    "\"\"\"\n",
    "\n",
    "with driver.session() as session:\n",
    "    result = session.run(cypher)\n",
    "    result = [record.data() for record in result]\n",
    "\n",
    "for item in result:\n",
    "    print(item)"
   ]
  },
  {
   "cell_type": "markdown",
   "id": "c096f6cf",
   "metadata": {},
   "source": [
    "## 3. Criação do Agente"
   ]
  },
  {
   "cell_type": "markdown",
   "id": "227c6fa0",
   "metadata": {},
   "source": [
    "Nesta etapa, desenvolvemos um agente que permite ao usuário fazer perguntas em linguagem natural sobre os contratos de fornecimento, e obtém as respostas executando consultas no banco de grafos Neo4j. O agente utiliza o modelo GPT da OpenAI para interpretar a pergunta, gerar a consulta Cypher correspondente, executá-la e retornar os resultados."
   ]
  },
  {
   "cell_type": "markdown",
   "id": "859c62bb",
   "metadata": {},
   "source": [
    "### 3.1 Conexão com o banco para consultar ao Grafo"
   ]
  },
  {
   "cell_type": "markdown",
   "id": "5ca40fd6",
   "metadata": {},
   "source": [
    "Nesta seção, definimos a função responsável por executar buscas no banco de dados Neo4j. Essa função será usada como ferramenta (tool) pelo agente para consultar o grafo com base em queries Cypher."
   ]
  },
  {
   "cell_type": "markdown",
   "id": "8752c89c",
   "metadata": {},
   "source": [
    "Conexão com o banco de dados do Neo4j:"
   ]
  },
  {
   "cell_type": "code",
   "execution_count": 22,
   "id": "47fdfe99",
   "metadata": {},
   "outputs": [],
   "source": [
    "import os\n",
    "from neo4j import GraphDatabase\n",
    "from dotenv import load_dotenv; load_dotenv()\n",
    "\n",
    "uri = os.getenv('NEO4J_URI')\n",
    "user = os.getenv('NEO4J_USERNAME')\n",
    "password = os.getenv('NEO4J_PASSWORD')\n",
    "\n",
    "driver = GraphDatabase.driver(uri, auth=(user, password))\n",
    "\n",
    "driver.verify_connectivity()"
   ]
  },
  {
   "cell_type": "markdown",
   "id": "552d78c8",
   "metadata": {},
   "source": [
    "Criação da função que consulta o banco:"
   ]
  },
  {
   "cell_type": "code",
   "execution_count": 24,
   "id": "7ce395e2",
   "metadata": {},
   "outputs": [],
   "source": [
    "def execute_query(cypher: str) -> list:\n",
    "    with driver.session() as session:\n",
    "        result = session.run(cypher)\n",
    "        return [record.data() for record in result]"
   ]
  },
  {
   "cell_type": "markdown",
   "id": "9e951f05",
   "metadata": {},
   "source": [
    "### 3.2 Definição do contexto utilizado pelo Agente"
   ]
  },
  {
   "cell_type": "markdown",
   "id": "ff32eac6",
   "metadata": {},
   "source": [
    "Nesta seção, apresentamos o contexto operacional do agente de IA, detalhando o system prompt que define seu comportamento"
   ]
  },
  {
   "cell_type": "code",
   "execution_count": 29,
   "id": "65864cbf",
   "metadata": {},
   "outputs": [],
   "source": [
    "INSTRUCTIONS = \"\"\"\\\n",
    "<goal>\n",
    "Criar uma query Cypher para obter dados de um grafo do Neo4j\n",
    "</goal>\n",
    "\n",
    "<db-context>\n",
    "Nós (labels):\n",
    "  - :Supplier - Fornecedor do contrato - [name]\n",
    "  - :Country - País onde o fornecedor está localizado - [name, code]\n",
    "  - :CommodityCategory - Categoria do bem ou serviço contratado - [name]\n",
    "  - :FundSource - Fonte de financiamento do contrato - [name]\n",
    "  - :Organization - Organização do Grupo Banco Mundial (WBG) responsável - [name]\n",
    "  - :VPU - Vice-Presidência que gerencia o contrato - [name]\n",
    "  - :Contract - Contrato propriamente dito - [selection_number, award_date, amount, description, fiscal_quarter]\n",
    "</db-context>\n",
    "\n",
    "<relationship-catalog>\n",
    "(Supplier)-[:LOCATED_IN]->(Country)\n",
    "(Supplier)-[:PROVIDED]->(Contract)\n",
    "(Contract)-[:CATEGORIZED_AS]->(CommodityCategory)\n",
    "(Contract)-[:FUNDED_BY]->(FundSource)\n",
    "(Contract)-[:MANAGED_BY]->(VPU)\n",
    "(VPU)-[:PART_OF]->(Organization)\n",
    "</relationship-catalog>\n",
    "\n",
    "<output-format>\n",
    "<root>\n",
    "<cot>\n",
    "CHAIN OF THOUGHT USADA PARA MONTAR A QUERY\n",
    "</cot>\n",
    "<cypher>\n",
    "COMANDO A SER EXECUTADO NO CYPHER\n",
    "</cypher>\n",
    "</root>\n",
    "</output-format>\n",
    "\n",
    "<remember>\n",
    "Os dados no grafo estão todos em inglês\n",
    "</remember>\\\n",
    "\"\"\"\n"
   ]
  },
  {
   "cell_type": "markdown",
   "id": "0ff0d24f",
   "metadata": {},
   "source": [
    "### 3.3 Conexão com a Responses API da OpenAI"
   ]
  },
  {
   "cell_type": "markdown",
   "id": "8c014802",
   "metadata": {},
   "source": [
    "Nesta seção, implementamos a função responsável por enviar a pergunta do usuário à API da OpenAI, utilizando o system prompt e o esquema de tools definidos anteriormente. O modelo é configurado para interpretar a pergunta e, se necessário, chamar a função executar_query com uma consulta Cypher gerada automaticamente."
   ]
  },
  {
   "cell_type": "code",
   "execution_count": 30,
   "id": "17034085",
   "metadata": {},
   "outputs": [],
   "source": [
    "from openai import OpenAI\n",
    "from dotenv import load_dotenv; load_dotenv()\n",
    "\n",
    "client = OpenAI()\n",
    "\n",
    "def invoke(input_message:str, instructions:str=None):\n",
    "    response = client.responses.create(\n",
    "        model=\"gpt-4.1-nano\",\n",
    "        input=input_message,\n",
    "        instructions=instructions\n",
    "    )\n",
    "    return response\n"
   ]
  },
  {
   "cell_type": "markdown",
   "id": "aca67995",
   "metadata": {},
   "source": [
    "### 3.4 Execução do Agente"
   ]
  },
  {
   "cell_type": "code",
   "execution_count": 31,
   "id": "135d7dbd",
   "metadata": {},
   "outputs": [
    {
     "name": "stdout",
     "output_type": "stream",
     "text": [
      "Chain of Thought:\n",
      "Para obter os contratos fornecidos por fornecedores espanhóis, preciso inicialmente identificar os fornecedores cujo país é Espanha, usando uma correspondência de país através do relacionamento LOCATED_IN. Depois, relaciono esses fornecedores com seus contratos através do relacionamento PROVIDED. Assim, seleciono apenas os contratos ligados a esses fornecedores espanhóis.\n",
      "\n",
      "Comando Cypher:\n",
      "MATCH (supplier:Supplier)-[:LOCATED_IN]->(country:Country {name: 'Spain'})\n",
      "MATCH (supplier)-[:PROVIDED]->(contract:Contract)\n",
      "RETURN contract\n",
      "\n",
      "Resultados:\n",
      "{'contract': {'description': 'IFC LAC Assessments', 'award_date': neo4j.time.Date(2024, 10, 18), 'fiscal_quarter': 'Q2 - FY25', 'selection_number': '2006830'}}\n",
      "{'contract': {'amount': 304128.0, 'description': 'Consultancy for the Improvement of Five Water Treatment Plants in Guatemala City', 'award_date': neo4j.time.Date(2024, 8, 28), 'fiscal_quarter': 'Q1 - FY25', 'selection_number': '2008510'}}\n",
      "{'contract': {'amount': 332785.0, 'description': 'Chad : Mini grid - Technical, Environmental and Social Support', 'award_date': neo4j.time.Date(2024, 6, 28), 'fiscal_quarter': 'Q4 - FY24', 'selection_number': '2008254'}}\n",
      "{'contract': {'amount': 471865.0, 'description': 'Ecuador(Galapagos) : Harnessing the Potential of the Ocean for Sustainable Development', 'award_date': neo4j.time.Date(2023, 6, 6), 'fiscal_quarter': 'Q4 - FY23', 'selection_number': '2000143'}}\n",
      "{'contract': {'amount': 468242.0, 'description': 'Ecuador (Continental Coastline) : Harnessing the Potential of the Ocean for Sustainable Development', 'award_date': neo4j.time.Date(2023, 5, 22), 'fiscal_quarter': 'Q4 - FY23', 'selection_number': '2000142'}}\n",
      "{'contract': {'amount': 540000.0, 'description': 'Costa Rica : Technical And Market Consulting', 'award_date': neo4j.time.Date(2023, 5, 30), 'fiscal_quarter': 'Q4 - FY23', 'selection_number': '1284098'}}\n",
      "{'contract': {'amount': 436165.96, 'description': 'Kyrgyz Republic - Airport Technical, Economic, Environmental and Social Consultant', 'award_date': neo4j.time.Date(2022, 1, 17), 'fiscal_quarter': 'Q3-FY22', 'selection_number': '1276328'}}\n",
      "{'contract': {'amount': 810589.89, 'description': 'Venue, Conference and Fair Organizer for Innovate4Climate 2023', 'award_date': neo4j.time.Date(2023, 5, 2), 'fiscal_quarter': 'Q4 - FY23', 'selection_number': '23-0572'}}\n",
      "{'contract': {'amount': 480650.0, 'description': \"Mauritania : Technical Assistance to Women's Groups and Networks  in the Henna and desert date value chains\", 'award_date': neo4j.time.Date(2023, 3, 2), 'fiscal_quarter': 'Q3 - FY23', 'selection_number': '1283648'}}\n",
      "{'contract': {'amount': 488053.0, 'description': 'Panama - Technical Consultant Required for Road Infrastructure Project', 'award_date': neo4j.time.Date(2022, 1, 24), 'fiscal_quarter': 'Q3-FY22', 'selection_number': '1276932'}}\n",
      "{'contract': {'amount': 345640.0, 'description': 'Brazil Rail Project : Business Consultant for KPI and Access Rights', 'award_date': neo4j.time.Date(2021, 12, 13), 'fiscal_quarter': 'Q2 - FY22', 'selection_number': '1274578'}}\n",
      "{'contract': {'amount': 279883.0, 'description': 'Argentina Colombia Mexico & Uruguay Public Transport Demand Forecasting in the Post-Covid-19 Era: New Technology for Better Infrastructure Investment Decision-Making in Latin American Cities', 'award_date': neo4j.time.Date(2021, 9, 27), 'fiscal_quarter': 'Q1 - FY22', 'selection_number': '1274052'}}\n",
      "{'contract': {'amount': 329269.0, 'description': 'Morocco Regions - Development of Road Maintenance Strategies', 'award_date': neo4j.time.Date(2020, 7, 21), 'fiscal_quarter': 'Q1 - FY21', 'selection_number': '1268144'}}\n",
      "{'contract': {'amount': 358550.0, 'description': 'Pakistan Karachi Water Canal', 'award_date': neo4j.time.Date(2020, 5, 26), 'fiscal_quarter': 'Q4 - FY20', 'selection_number': '1267471'}}\n",
      "{'contract': {'amount': 298370.0, 'description': 'Costa Rica : Integrated Demand Analysis for the Transport System in the Metropolitan Area of San Jose', 'award_date': neo4j.time.Date(2019, 7, 15), 'fiscal_quarter': 'Q1 - FY20', 'selection_number': '1262551'}}\n",
      "{'contract': {'amount': 565080.0, 'description': 'Barbados Airport (GAI) -  Technical Consultant', 'award_date': neo4j.time.Date(2019, 6, 12), 'fiscal_quarter': 'Q4 - FY19', 'selection_number': '1262151'}}\n",
      "{'contract': {'amount': 321340.24, 'description': 'Montenegro Legal Consultant Airports Public Private Partnership (PPP) - European Court of Auditors Public Private Partnership (ECA PPP) team', 'award_date': neo4j.time.Date(2018, 3, 19), 'fiscal_quarter': 'Q3 - FY18', 'selection_number': '1251512'}}\n",
      "{'contract': {'amount': 296100.0, 'description': 'Jordan Consulting Services for Identifying Financing Schemes with a Focus on Tolling', 'award_date': neo4j.time.Date(2018, 1, 29), 'fiscal_quarter': 'Q3 - FY18', 'selection_number': '1251641'}}\n",
      "{'contract': {'amount': 450000.0, 'description': 'EDGE Graphic Design and Website Development', 'award_date': neo4j.time.Date(2019, 5, 22), 'fiscal_quarter': 'Q4 - FY19', 'selection_number': '1259766'}}\n",
      "{'contract': {'amount': 314277.0, 'description': 'Spain CRP Madrid', 'award_date': neo4j.time.Date(2019, 5, 16), 'fiscal_quarter': 'Q4 - FY19', 'selection_number': 'WBG0001868'}}\n",
      "{'contract': {'amount': 274200.0, 'description': 'Brazil Preparation of a Regulatory Impact Analysis of the Adoption of a Carbon Pricing Instrument As Part of Nationally Determined Contributions (NDC) Implementation Package - Component 2b Regulatory Impact Analysis (RIA)', 'award_date': neo4j.time.Date(2018, 1, 16), 'fiscal_quarter': 'Q3 - FY18', 'selection_number': '1247051'}}\n",
      "{'contract': {'amount': 429299.0, 'description': 'Mozambique Development of  A National Electrification Strategy & Plan', 'award_date': neo4j.time.Date(2016, 9, 23), 'fiscal_quarter': 'Q1 - FY17', 'selection_number': '1215301'}}\n",
      "{'contract': {'amount': 480000.0, 'description': 'Recommendation for Service Plan, Concept Design, & Econ Analysis of PT Corridor in Baghdad', 'award_date': neo4j.time.Date(2024, 12, 24), 'fiscal_quarter': 'Q2 - FY25', 'selection_number': '2009796'}}\n"
     ]
    }
   ],
   "source": [
    "import xmltodict\n",
    "\n",
    "input_message = 'Quais contratos foram fornecidos por fornecedores espanhóis?'\n",
    "\n",
    "response = invoke(input_message, INSTRUCTIONS)\n",
    "\n",
    "parsed_response = xmltodict.parse(response.output_text)['root']\n",
    "cot = parsed_response['cot']\n",
    "cypher = parsed_response['cypher']\n",
    "results = execute_query(cypher)\n",
    "\n",
    "print('Chain of Thought:', cot, sep='\\n', end='\\n\\n')\n",
    "print('Comando Cypher:', cypher, sep='\\n', end='\\n\\n')\n",
    "print('Resultados:')\n",
    "for it in results:\n",
    "    print(it)\n",
    "\n"
   ]
  },
  {
   "cell_type": "markdown",
   "id": "ef764e81",
   "metadata": {},
   "source": [
    "### 3.5 Avaliação do contexto"
   ]
  },
  {
   "cell_type": "code",
   "execution_count": null,
   "id": "4286a9c8",
   "metadata": {},
   "outputs": [
    {
     "name": "stdout",
     "output_type": "stream",
     "text": [
      "Contagem de tokens: 2118\n",
      "Custo da requisição (R$): 0.02\n",
      "Custo mensal potencial (R$): 936.3222000000001\n",
      "Redução de custo (%): -99.99\n"
     ]
    }
   ],
   "source": [
    "search_input_token_count = calculate_token_count(INSTRUCTIONS)\n",
    "search_output_token_count = calculate_token_count(response.output_text)\n",
    "search_request_cost = calculate_request_cost('gpt-4.1-nano', search_input_token_count, search_output_token_count)\n",
    "search_potential_cost = calculate_monthly_potencial_cost(search_request_cost, 15, 120, 22)\n",
    "\n",
    "res_input_token_count = calculate_token_count(str(results))\n",
    "res_request_cost = calculate_request_cost('gpt-4o', res_input_token_count)\n",
    "res_potential_cost = calculate_monthly_potencial_cost(res_request_cost, 15, 120, 22)\n",
    "\n",
    "opt_token_count = res_input_token_count + search_input_token_count + search_output_token_count\n",
    "opt_request_cost = search_request_cost + res_request_cost\n",
    "opt_potential_cost = search_potential_cost + res_potential_cost\n",
    "\n",
    "print('Contagem de tokens:', opt_token_count)\n",
    "print('Custo da requisição (R$):', round(opt_request_cost, 2))\n",
    "print('Custo mensal potencial (R$):', opt_potential_cost)\n",
    "print('Redução de custo (%):', round((opt_potential_cost / ref_potencial_cost) - 1 * 100, 2))"
   ]
  }
 ],
 "metadata": {
  "kernelspec": {
   "display_name": "Python 3",
   "language": "python",
   "name": "python3"
  },
  "language_info": {
   "codemirror_mode": {
    "name": "ipython",
    "version": 3
   },
   "file_extension": ".py",
   "mimetype": "text/x-python",
   "name": "python",
   "nbconvert_exporter": "python",
   "pygments_lexer": "ipython3",
   "version": "3.12.4"
  },
  "vincent": {
   "sessionId": "a2d7edbf856d5dfeb9673f30_2025-06-15T15-40-15-020Z"
  }
 },
 "nbformat": 4,
 "nbformat_minor": 5
}
