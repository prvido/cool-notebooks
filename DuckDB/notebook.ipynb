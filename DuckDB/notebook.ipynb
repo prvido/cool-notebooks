{
 "cells": [
  {
   "cell_type": "markdown",
   "metadata": {},
   "source": [
    "# Analisando Dados com OpenAI e DuckDB"
   ]
  },
  {
   "cell_type": "markdown",
   "metadata": {},
   "source": [
    "## 0. Preparação"
   ]
  },
  {
   "cell_type": "markdown",
   "metadata": {},
   "source": [
    "### 0.1 Instalação das bibliotecas necessárias"
   ]
  },
  {
   "cell_type": "code",
   "execution_count": 63,
   "metadata": {},
   "outputs": [],
   "source": [
    "%%capture\n",
    "%pip install requests pandas duckdb python-dotenv openai;"
   ]
  },
  {
   "cell_type": "markdown",
   "metadata": {},
   "source": [
    "### 0.2 Importação das bibliotecas utilizadas"
   ]
  },
  {
   "cell_type": "code",
   "execution_count": 64,
   "metadata": {},
   "outputs": [],
   "source": [
    "import os\n",
    "import duckdb\n",
    "from openai import OpenAI\n",
    "from dotenv import load_dotenv; "
   ]
  },
  {
   "cell_type": "code",
   "execution_count": 65,
   "metadata": {},
   "outputs": [],
   "source": [
    "_ = load_dotenv()\n",
    "client = OpenAI()\n"
   ]
  },
  {
   "cell_type": "markdown",
   "metadata": {},
   "source": [
    "### 0.3 Definição dos templates de prompt"
   ]
  },
  {
   "cell_type": "code",
   "execution_count": 66,
   "metadata": {},
   "outputs": [],
   "source": [
    "query_prompt_template = \"\"\"\\\n",
    "<database-context>\n",
    "{context}\n",
    "</database-context>\n",
    "\n",
    "<response-format>\n",
    "```sql\n",
    "<<QUERY_HERE>>\n",
    "```\n",
    "</response-format>\n",
    "\n",
    "Crie uma query suportada pelo DuckDB para responder a seguinte pergunta: {question}\n",
    "\"\"\""
   ]
  },
  {
   "cell_type": "code",
   "execution_count": 67,
   "metadata": {},
   "outputs": [],
   "source": [
    "response_prompt_template = \"\"\"\\\n",
    "You are a data analyst responsible for answering questions about the data.\n",
    "\n",
    "The user asked the following question: \n",
    "---\n",
    "{question}\n",
    "---\n",
    "\n",
    "The query to retrieve the data is:\n",
    "---\n",
    "{query}\n",
    "---\n",
    "\n",
    "This data was retrieved from the database:\n",
    "---\n",
    "{data}\n",
    "---\n",
    "\n",
    "Answer the question based on the data provided.\n",
    "\"\"\""
   ]
  },
  {
   "cell_type": "markdown",
   "metadata": {},
   "source": [
    "### 0.4 Definição de funções utilitárias"
   ]
  },
  {
   "cell_type": "code",
   "execution_count": 68,
   "metadata": {},
   "outputs": [],
   "source": [
    "def execute_query(query):\n",
    "    con = duckdb.connect(\"data/treated/database.duckdb\")\n",
    "    try:\n",
    "        result = con.execute(query).fetchdf()\n",
    "        data = result.to_json(orient='records', force_ascii=False)\n",
    "        status = \"success\"\n",
    "    except Exception as e:\n",
    "        status = \"error\"\n",
    "        data = str(e)\n",
    "    finally:\n",
    "        con.close()\n",
    "    return {\"status\": status, \"data\": data}"
   ]
  },
  {
   "cell_type": "code",
   "execution_count": 69,
   "metadata": {},
   "outputs": [],
   "source": [
    "def parse_query(query):\n",
    "    return query.split(\"```sql\")[1].split(\"```\")[0]"
   ]
  },
  {
   "cell_type": "code",
   "execution_count": 70,
   "metadata": {},
   "outputs": [],
   "source": [
    "def execute_agent(question, context):\n",
    "    response = client.responses.create(\n",
    "        model=\"gpt-4.1-mini\",\n",
    "        input=query_prompt_template.format(question=question, context=context)\n",
    "    )\n",
    "\n",
    "    query = parse_query(response.output_text)\n",
    "    results = execute_query(query)\n",
    "\n",
    "    response = client.responses.create(\n",
    "        model=\"gpt-4.1-mini\",\n",
    "        input=response_prompt_template.format(data=results[\"data\"], question=question, query=query)\n",
    "    )\n",
    "\n",
    "    return response.output_text\n",
    "    "
   ]
  },
  {
   "cell_type": "markdown",
   "metadata": {},
   "source": [
    "## 1. Preparação dos dados"
   ]
  },
  {
   "cell_type": "markdown",
   "metadata": {},
   "source": [
    "### 1.1 Criação do arquivo .duckdb"
   ]
  },
  {
   "cell_type": "code",
   "execution_count": 71,
   "metadata": {},
   "outputs": [],
   "source": [
    "# Cria o diretório de destino se não existir\n",
    "os.makedirs('data/treated', exist_ok=True)\n",
    "\n",
    "# Caminhos dos arquivos\n",
    "db_path = 'data/treated/database.duckdb'\n",
    "customers_csv = 'data/raw/customers.csv'\n",
    "products_csv = 'data/raw/products.csv'\n",
    "sales_csv = 'data/raw/sales.csv'\n",
    "\n",
    "# Conecta/cria o banco DuckDB\n",
    "con = duckdb.connect(db_path)\n",
    "\n",
    "# Cria as tabelas a partir dos CSVs\n",
    "con.execute(f\"\"\"\n",
    "    CREATE OR REPLACE TABLE customers AS\n",
    "    SELECT * FROM read_csv_auto('{customers_csv}');\n",
    "\"\"\")\n",
    "con.execute(f\"\"\"\n",
    "    CREATE OR REPLACE TABLE products AS\n",
    "    SELECT * FROM read_csv_auto('{products_csv}');\n",
    "\"\"\")\n",
    "con.execute(f\"\"\"\n",
    "    CREATE OR REPLACE TABLE sales AS\n",
    "    SELECT * FROM read_csv_auto('{sales_csv}');\n",
    "\"\"\")\n",
    "\n",
    "con.close()"
   ]
  },
  {
   "cell_type": "markdown",
   "metadata": {},
   "source": [
    "### 1.2 Criação do contexto das tabelas do database"
   ]
  },
  {
   "cell_type": "code",
   "execution_count": 72,
   "metadata": {},
   "outputs": [],
   "source": [
    "import glob\n",
    "\n",
    "files = glob.glob(\"schemas/*.yaml\")\n",
    "context = \"\"\n",
    "for table_context in files:\n",
    "    with open(table_context, \"r\") as f:\n",
    "        context += f.read()"
   ]
  },
  {
   "cell_type": "markdown",
   "metadata": {},
   "source": [
    "## 2. Interação com a OpenAI"
   ]
  },
  {
   "cell_type": "code",
   "execution_count": 73,
   "metadata": {},
   "outputs": [
    {
     "name": "stdout",
     "output_type": "stream",
     "text": [
      "Seus 10 principais clientes, de acordo com o valor total gasto, são:\n",
      "\n",
      "1. Krabby Claws – R$ 5.490,41  \n",
      "2. Granna Goodie – R$ 5.239,44  \n",
      "3. Astro Pup – R$ 5.008,05  \n",
      "4. Chirpy McPeep – R$ 4.817,82  \n",
      "5. Pumba Porker – R$ 4.590,25  \n",
      "6. George Jetpack – R$ 4.564,34  \n",
      "7. Slick Coyote – R$ 4.344,52  \n",
      "8. Peppy Pewt – R$ 4.317,48  \n",
      "9. Minnie Mousey – R$ 4.072,80  \n",
      "10. Blaze Runner – R$ 3.947,64  \n",
      "\n",
      "Esses clientes são os que mais gastaram em suas compras segundo os dados fornecidos.\n"
     ]
    }
   ],
   "source": [
    "question = \"Quais são os meus principais 10 clientes?\"\n",
    "response = execute_agent(question, context)\n",
    "print(response)"
   ]
  },
  {
   "cell_type": "code",
   "execution_count": 74,
   "metadata": {},
   "outputs": [
    {
     "name": "stdout",
     "output_type": "stream",
     "text": [
      "Para o cliente Krabby Claws, você vendeu os seguintes produtos e obteve a seguinte receita de cada um:\n",
      "\n",
      "- Giant Rubber Band: R$ 990,49  \n",
      "- Do-It-Yourself Tornado: R$ 1.364,82  \n",
      "- Rocket Skates: R$ 1.880,39  \n",
      "- Dehydrated Boulder: R$ 232,26  \n",
      "- Earthquake Pills: R$ 526,37  \n",
      "- Jet-Propelled Unicycle: R$ 496,08  \n",
      "\n",
      "Se precisar de mais alguma análise ou outro dado, estou à disposição!\n"
     ]
    }
   ],
   "source": [
    "question = \"Quais produtos eu vendi para o cliente Krabby Claws? Qual foi minha receita de cada?\"\n",
    "response = execute_agent(question, context)\n",
    "print(response)"
   ]
  }
 ],
 "metadata": {
  "kernelspec": {
   "display_name": ".venv",
   "language": "python",
   "name": "python3"
  },
  "language_info": {
   "codemirror_mode": {
    "name": "ipython",
    "version": 3
   },
   "file_extension": ".py",
   "mimetype": "text/x-python",
   "name": "python",
   "nbconvert_exporter": "python",
   "pygments_lexer": "ipython3",
   "version": "3.12.4"
  }
 },
 "nbformat": 4,
 "nbformat_minor": 2
}
